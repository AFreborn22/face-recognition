{
 "cells": [
  {
   "cell_type": "code",
   "execution_count": 3,
   "id": "3be58449",
   "metadata": {},
   "outputs": [],
   "source": [
    "import torch\n",
    "from facenet_pytorch import InceptionResnetV1\n",
    "\n",
    "model = InceptionResnetV1(pretrained=\"vggface2\").eval() \n",
    "\n",
    "dummy_input = torch.randn(1, 3, 160, 160)  \n",
    "\n",
    "torch.onnx.export(\n",
    "    model,\n",
    "    dummy_input,\n",
    "    \"../app/models/facenet_pretrained.onnx\", \n",
    "    input_names=[\"input\"],  \n",
    "    output_names=[\"output\"],  \n",
    "    dynamic_axes={\"input\": {0: \"batch_size\"}, \"output\": {0: \"batch_size\"}},  \n",
    "    opset_version=11  \n",
    ")"
   ]
  },
  {
   "cell_type": "code",
   "execution_count": null,
   "id": "453c4ffe",
   "metadata": {},
   "outputs": [],
   "source": []
  }
 ],
 "metadata": {
  "kernelspec": {
   "display_name": "Python 3",
   "language": "python",
   "name": "python3"
  },
  "language_info": {
   "codemirror_mode": {
    "name": "ipython",
    "version": 3
   },
   "file_extension": ".py",
   "mimetype": "text/x-python",
   "name": "python",
   "nbconvert_exporter": "python",
   "pygments_lexer": "ipython3",
   "version": "3.11.4"
  }
 },
 "nbformat": 4,
 "nbformat_minor": 5
}
